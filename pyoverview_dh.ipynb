{
  "nbformat": 4,
  "nbformat_minor": 0,
  "metadata": {
    "colab": {
      "name": "pyoverview-dh.ipynb",
      "version": "0.3.2",
      "provenance": [],
      "include_colab_link": true
    },
    "kernelspec": {
      "name": "python3",
      "display_name": "Python 3"
    }
  },
  "cells": [
    {
      "cell_type": "markdown",
      "metadata": {
        "id": "view-in-github",
        "colab_type": "text"
      },
      "source": [
        "<a href=\"https://colab.research.google.com/github/dhbilton/where-is-jojo/blob/master/pyoverview_dh.ipynb\" target=\"_parent\"><img src=\"https://colab.research.google.com/assets/colab-badge.svg\" alt=\"Open In Colab\"/></a>"
      ]
    },
    {
      "metadata": {
        "id": "gBt3HAVT0LbY",
        "colab_type": "code",
        "colab": {}
      },
      "cell_type": "code",
      "source": [
        "import this"
      ],
      "execution_count": 0,
      "outputs": []
    },
    {
      "metadata": {
        "id": "7IK8t21z0rlx",
        "colab_type": "code",
        "colab": {
          "base_uri": "https://localhost:8080/",
          "height": 51
        },
        "outputId": "a47e5b80-8947-4a90-d947-e82da83fdf5d"
      },
      "cell_type": "code",
      "source": [
        "# set the midpoint\n",
        "midpoint = 5\n",
        "\n",
        "# make two empty lists\n",
        "lower = []; upper = []\n",
        "\n",
        "# split the numbers into lower and upper\n",
        "for i in range(10):\n",
        "  \n",
        "  if (i < midpoint):\n",
        "    lower.append(i)\n",
        "  else:\n",
        "    upper.append(i)\n",
        "\n",
        "print(\"lower\", lower)\n",
        "print(\"upper:\", upper)"
      ],
      "execution_count": 9,
      "outputs": [
        {
          "output_type": "stream",
          "text": [
            "lower [0, 1, 2, 3, 4]\n",
            "upper: [5, 6, 7, 8, 9]\n"
          ],
          "name": "stdout"
        }
      ]
    },
    {
      "metadata": {
        "id": "UNSF-OKo9eeF",
        "colab_type": "code",
        "colab": {
          "base_uri": "https://localhost:8080/",
          "height": 34
        },
        "outputId": "c1a665b9-2142-4569-b619-dbc6e52a88c4"
      },
      "cell_type": "code",
      "source": [
        "print(\"Hello World - FUCK YOU\")"
      ],
      "execution_count": 13,
      "outputs": [
        {
          "output_type": "stream",
          "text": [
            "Hello World - FUCK YOU\n"
          ],
          "name": "stdout"
        }
      ]
    },
    {
      "metadata": {
        "id": "iMQ3MKjG9l-X",
        "colab_type": "code",
        "colab": {
          "base_uri": "https://localhost:8080/",
          "height": 34
        },
        "outputId": "d95300e4-682c-475c-bcee-72d9057bf2a7"
      },
      "cell_type": "code",
      "source": [
        "x = 5\n",
        "if x == 1:\n",
        "  # indented four spaces\n",
        "  print(\"x is 1.\")"
      ],
      "execution_count": 19,
      "outputs": [
        {
          "output_type": "stream",
          "text": [
            "x is 1.\n"
          ],
          "name": "stdout"
        }
      ]
    },
    {
      "metadata": {
        "id": "iOKK0Ujg-vZz",
        "colab_type": "code",
        "colab": {
          "base_uri": "https://localhost:8080/",
          "height": 51
        },
        "outputId": "70abd01e-ad58-4b92-ab6f-a7bedcb66f43"
      },
      "cell_type": "code",
      "source": [
        "myint = \"seven\"\n",
        "print(myint)\n",
        "print (type(myint))"
      ],
      "execution_count": 23,
      "outputs": [
        {
          "output_type": "stream",
          "text": [
            "seven\n",
            "<class 'str'>\n"
          ],
          "name": "stdout"
        }
      ]
    },
    {
      "metadata": {
        "id": "0PT9D56t_uVU",
        "colab_type": "code",
        "colab": {
          "base_uri": "https://localhost:8080/",
          "height": 34
        },
        "outputId": "be24f61f-9ea4-4fbb-b674-c6de23feab0f"
      },
      "cell_type": "code",
      "source": [
        "myfloat = float(7)\n",
        "print(myfloat)"
      ],
      "execution_count": 24,
      "outputs": [
        {
          "output_type": "stream",
          "text": [
            "7.0\n"
          ],
          "name": "stdout"
        }
      ]
    },
    {
      "metadata": {
        "id": "6NmJc4hnAMSM",
        "colab_type": "code",
        "colab": {
          "base_uri": "https://localhost:8080/",
          "height": 51
        },
        "outputId": "e182ead7-6934-4cef-8717-bc5d8d559f39"
      },
      "cell_type": "code",
      "source": [
        "mystring = 'hello'\n",
        "print(mystring)\n",
        "mystring = \"hello\"\n",
        "print(mystring)"
      ],
      "execution_count": 26,
      "outputs": [
        {
          "output_type": "stream",
          "text": [
            "hello\n",
            "hello\n"
          ],
          "name": "stdout"
        }
      ]
    },
    {
      "metadata": {
        "id": "qK6WM4zWAiLS",
        "colab_type": "code",
        "colab": {
          "base_uri": "https://localhost:8080/",
          "height": 34
        },
        "outputId": "4321cb4b-8c3b-4323-9930-b3a7d783fe29"
      },
      "cell_type": "code",
      "source": [
        "hello = \"hello\"\n",
        "world = \"world\"\n",
        "helloworld = hello + world\n",
        "print(helloworld)"
      ],
      "execution_count": 27,
      "outputs": [
        {
          "output_type": "stream",
          "text": [
            "helloworld\n"
          ],
          "name": "stdout"
        }
      ]
    },
    {
      "metadata": {
        "id": "NYfdgxgtA6rk",
        "colab_type": "code",
        "colab": {
          "base_uri": "https://localhost:8080/",
          "height": 34
        },
        "outputId": "8ccd6a4e-0194-490b-ca30-fe68f9f4c569"
      },
      "cell_type": "code",
      "source": [
        "three, four, nine, six = 3, 4, 9, 6\n",
        "print"
      ],
      "execution_count": 36,
      "outputs": [
        {
          "output_type": "stream",
          "text": [
            "[6] [9]\n"
          ],
          "name": "stdout"
        }
      ]
    },
    {
      "metadata": {
        "id": "QYVEASS7B566",
        "colab_type": "code",
        "colab": {
          "base_uri": "https://localhost:8080/",
          "height": 34
        },
        "outputId": "ba2ca84b-29a0-4bd9-d312-4b46801326bf"
      },
      "cell_type": "code",
      "source": [
        "one = 1\n",
        "two = 2\n",
        "hello = \"hello\"\n",
        "\n",
        "print(str(one) + str(two) + hello)"
      ],
      "execution_count": 37,
      "outputs": [
        {
          "output_type": "stream",
          "text": [
            "12hello\n"
          ],
          "name": "stdout"
        }
      ]
    },
    {
      "metadata": {
        "id": "GlgDTdNoC8Pq",
        "colab_type": "code",
        "colab": {
          "base_uri": "https://localhost:8080/",
          "height": 119
        },
        "outputId": "441476d2-49ca-4336-9df9-b6bcfa9823e4"
      },
      "cell_type": "code",
      "source": [
        "mylist = []\n",
        "mylist.append(7)\n",
        "mylist.append(22)\n",
        "mylist.append(9)\n",
        "mylist[0] = 7\n",
        "print(mylist[0])\n",
        "print(mylist[1])\n",
        "\n",
        "print (\"========\")\n",
        "for x in mylist:\n",
        "    print(x)"
      ],
      "execution_count": 39,
      "outputs": [
        {
          "output_type": "stream",
          "text": [
            "7\n",
            "22\n",
            "========\n",
            "7\n",
            "22\n",
            "9\n"
          ],
          "name": "stdout"
        }
      ]
    },
    {
      "metadata": {
        "id": "iZ16fAqVEHyT",
        "colab_type": "code",
        "colab": {
          "base_uri": "https://localhost:8080/",
          "height": 68
        },
        "outputId": "1b1db996-04d4-4598-9ba6-3220ffdb0abf"
      },
      "cell_type": "code",
      "source": [
        "print([1,2,3] * )\n",
        "f = range(1,10)\n",
        "print(f)\n",
        "len(f)"
      ],
      "execution_count": 47,
      "outputs": [
        {
          "output_type": "stream",
          "text": [
            "[1, 2, 3, 1, 2, 3, 1, 2, 3]\n",
            "range(1, 10)\n"
          ],
          "name": "stdout"
        },
        {
          "output_type": "execute_result",
          "data": {
            "text/plain": [
              "9"
            ]
          },
          "metadata": {
            "tags": []
          },
          "execution_count": 47
        }
      ]
    },
    {
      "metadata": {
        "id": "EqdpP6ypEs11",
        "colab_type": "code",
        "colab": {
          "base_uri": "https://localhost:8080/",
          "height": 119
        },
        "outputId": "be552809-8526-484a-ba18-3ab561cece76"
      },
      "cell_type": "code",
      "source": [
        "mylist2 = [6,6,\"6asdfads\"]\n",
        "addedList = mylist + mylist2\n",
        "print(mylist)\n",
        "print(mylist2)\n",
        "print(type(addedList[5]))\n",
        "print(addedList)\n",
        "print(addedList[5])\n",
        "addedList.append(6.2)\n",
        "print(addedList)"
      ],
      "execution_count": 45,
      "outputs": [
        {
          "output_type": "stream",
          "text": [
            "[7, 22, 9]\n",
            "[6, 6, '6asdfads']\n",
            "<class 'str'>\n",
            "[7, 22, 9, 6, 6, '6asdfads']\n",
            "6asdfads\n",
            "[7, 22, 9, 6, 6, '6asdfads', 6.2]\n"
          ],
          "name": "stdout"
        }
      ]
    },
    {
      "metadata": {
        "id": "Ga5jeP_7GV_5",
        "colab_type": "code",
        "colab": {
          "base_uri": "https://localhost:8080/",
          "height": 68
        },
        "outputId": "7e3a56f1-4347-4557-9d1b-edbddf3f8834"
      },
      "cell_type": "code",
      "source": [
        "number = 1 + 2 * 3 / 4.0\n",
        "print(number)\n",
        "\n",
        "remainder = 11 % 3\n",
        "print(\"Remainder: %d\" %remainder)\n",
        "\n",
        "lotsofhellos = \"hello\" * 10\n",
        "print(lotsofhellos)"
      ],
      "execution_count": 51,
      "outputs": [
        {
          "output_type": "stream",
          "text": [
            "2.5\n",
            "Remainder: 3\n",
            "hellohellohellohellohellohellohellohellohellohello\n"
          ],
          "name": "stdout"
        }
      ]
    }
  ]
}