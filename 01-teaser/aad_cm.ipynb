{
  "nbformat": 4,
  "nbformat_minor": 0,
  "metadata": {
    "colab": {
      "name": "aad_cm.ipynb",
      "version": "0.3.2",
      "provenance": [],
      "include_colab_link": true
    },
    "kernelspec": {
      "name": "python3",
      "display_name": "Python 3"
    }
  },
  "cells": [
    {
      "cell_type": "markdown",
      "metadata": {
        "id": "view-in-github",
        "colab_type": "text"
      },
      "source": [
        "<a href=\"https://colab.research.google.com/github/dhbilton/where-is-jojo/blob/master/aad_cm.ipynb\" target=\"_parent\"><img src=\"https://colab.research.google.com/assets/colab-badge.svg\" alt=\"Open In Colab\"/></a>"
      ]
    },
    {
      "metadata": {
        "id": "9cl--sOBR8Gx",
        "colab_type": "code",
        "colab": {}
      },
      "cell_type": "code",
      "source": [
        "import numpy as np\n",
        "\n",
        "def predict(weight, inputs):\n",
        "  for W, b in weights:\n",
        "    z = np.dot(input, W) + b\n",
        "    input = np.tanh(z)\n",
        "  return z\n",
        "\n",
        "def loglik(weight, inputs, targets):\n",
        "  preds = predict(weight, inputs)\n",
        "  return np.sum((preds - targets)**2)"
      ],
      "execution_count": 0,
      "outputs": []
    },
    {
      "metadata": {
        "id": "99OU-4GyX9bS",
        "colab_type": "code",
        "colab": {}
      },
      "cell_type": "code",
      "source": [
        "import autograd.numpy as np\n",
        "from autograd import grad\n",
        "\n",
        "def predict(weight, inputs):\n",
        "  for W, b in weight:\n",
        "    z = np.dot(inputs, W) + b\n",
        "    inputs = np.tanh(z)\n",
        "  return z\n",
        "\n",
        "def loglik(weight, inputs, targets):\n",
        "  preds = predict(weight, inputs)\n",
        "  return np.sum((preds - targets)**2)\n",
        "\n",
        "grad_function = grad(loglik)"
      ],
      "execution_count": 0,
      "outputs": []
    },
    {
      "metadata": {
        "id": "L4l_8skQYv0D",
        "colab_type": "code",
        "colab": {
          "base_uri": "https://localhost:8080/",
          "height": 373
        },
        "outputId": "75f84e56-060e-465e-8efc-bce870ad538d"
      },
      "cell_type": "code",
      "source": [
        "\n",
        "\n",
        "import autograd.numpy as np\n",
        "# import jax.numpy\n",
        "from autograd import grad\n",
        "from jax import random\n",
        "\n",
        "def predict(params, inputs):\n",
        "  for W, b in params:\n",
        "    outputs = np.dot(inputs, W) + b\n",
        "    inputs = np.tanh(outputs)\n",
        "  return outputs\n",
        "\n",
        "def loss(params, inputs, targets):\n",
        "  pred = predict(params, inputs)\n",
        "  return np.sum((preds - targets)**2)\n",
        "\n",
        "grad_fun = random(grad(loss)) \n",
        "# compiled gradient-of-loss function"
      ],
      "execution_count": 18,
      "outputs": [
        {
          "output_type": "error",
          "ename": "ModuleNotFoundError",
          "evalue": "ignored",
          "traceback": [
            "\u001b[0;31m---------------------------------------------------------------------------\u001b[0m",
            "\u001b[0;31mModuleNotFoundError\u001b[0m                       Traceback (most recent call last)",
            "\u001b[0;32m<ipython-input-18-c90c7fc8572e>\u001b[0m in \u001b[0;36m<module>\u001b[0;34m()\u001b[0m\n\u001b[1;32m      4\u001b[0m \u001b[0;31m# import jax.numpy\u001b[0m\u001b[0;34m\u001b[0m\u001b[0;34m\u001b[0m\u001b[0;34m\u001b[0m\u001b[0m\n\u001b[1;32m      5\u001b[0m \u001b[0;32mfrom\u001b[0m \u001b[0mautograd\u001b[0m \u001b[0;32mimport\u001b[0m \u001b[0mgrad\u001b[0m\u001b[0;34m\u001b[0m\u001b[0;34m\u001b[0m\u001b[0m\n\u001b[0;32m----> 6\u001b[0;31m \u001b[0;32mfrom\u001b[0m \u001b[0mjax\u001b[0m \u001b[0;32mimport\u001b[0m \u001b[0mrandom\u001b[0m\u001b[0;34m\u001b[0m\u001b[0;34m\u001b[0m\u001b[0m\n\u001b[0m\u001b[1;32m      7\u001b[0m \u001b[0;34m\u001b[0m\u001b[0m\n\u001b[1;32m      8\u001b[0m \u001b[0;32mdef\u001b[0m \u001b[0mpredict\u001b[0m\u001b[0;34m(\u001b[0m\u001b[0mparams\u001b[0m\u001b[0;34m,\u001b[0m \u001b[0minputs\u001b[0m\u001b[0;34m)\u001b[0m\u001b[0;34m:\u001b[0m\u001b[0;34m\u001b[0m\u001b[0;34m\u001b[0m\u001b[0m\n",
            "\u001b[0;31mModuleNotFoundError\u001b[0m: No module named 'jax'",
            "",
            "\u001b[0;31m---------------------------------------------------------------------------\u001b[0;32m\nNOTE: If your import is failing due to a missing package, you can\nmanually install dependencies using either !pip or !apt.\n\nTo view examples of installing some common dependencies, click the\n\"Open Examples\" button below.\n\u001b[0;31m---------------------------------------------------------------------------\u001b[0m\n"
          ]
        }
      ]
    },
    {
      "metadata": {
        "id": "jjr0zM6Kdg1e",
        "colab_type": "code",
        "colab": {}
      },
      "cell_type": "code",
      "source": [
        ""
      ],
      "execution_count": 0,
      "outputs": []
    }
  ]
}