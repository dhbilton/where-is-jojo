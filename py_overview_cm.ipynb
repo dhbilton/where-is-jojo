{
  "nbformat": 4,
  "nbformat_minor": 0,
  "metadata": {
    "colab": {
      "name": "py_overview_cm.ipynb",
      "version": "0.3.2",
      "provenance": [],
      "include_colab_link": true
    },
    "kernelspec": {
      "name": "python3",
      "display_name": "Python 3"
    }
  },
  "cells": [
    {
      "cell_type": "markdown",
      "metadata": {
        "id": "view-in-github",
        "colab_type": "text"
      },
      "source": [
        "<a href=\"https://colab.research.google.com/github/dhbilton/where-is-jojo/blob/master/py_overview_cm.ipynb\" target=\"_parent\"><img src=\"https://colab.research.google.com/assets/colab-badge.svg\" alt=\"Open In Colab\"/></a>"
      ]
    },
    {
      "metadata": {
        "id": "CtsJjSFt0GwN",
        "colab_type": "code",
        "outputId": "6958c909-dc0a-4e4c-9eaa-63fc65e68b00",
        "colab": {
          "base_uri": "https://localhost:8080/",
          "height": 34
        }
      },
      "cell_type": "code",
      "source": [
        "print('Hello World')"
      ],
      "execution_count": 31,
      "outputs": [
        {
          "output_type": "stream",
          "text": [
            "Hello World\n"
          ],
          "name": "stdout"
        }
      ]
    },
    {
      "metadata": {
        "id": "726qYzh89frU",
        "colab_type": "code",
        "colab": {}
      },
      "cell_type": "code",
      "source": [
        "x = 5\n",
        "\n",
        "if x == 1:\n",
        "  \n",
        "  print('x is 1')"
      ],
      "execution_count": 0,
      "outputs": []
    },
    {
      "metadata": {
        "id": "O3L9y6jN9puH",
        "colab_type": "code",
        "colab": {
          "base_uri": "https://localhost:8080/",
          "height": 52
        },
        "outputId": "6d6f1381-8e5c-404a-b460-2b3d41b900de"
      },
      "cell_type": "code",
      "source": [
        "myint = \"seven\"\n",
        "print(myint)\n",
        "print(type(myint))"
      ],
      "execution_count": 39,
      "outputs": [
        {
          "output_type": "stream",
          "text": [
            "seven\n",
            "<class 'str'>\n"
          ],
          "name": "stdout"
        }
      ]
    },
    {
      "metadata": {
        "id": "YsuoDSjM_lWo",
        "colab_type": "code",
        "colab": {
          "base_uri": "https://localhost:8080/",
          "height": 34
        },
        "outputId": "6ab5bae9-bf22-4968-c5c6-ac9bdf186131"
      },
      "cell_type": "code",
      "source": [
        "# float\n",
        "\n",
        "myfloat = float(7)\n",
        "print(myfloat)"
      ],
      "execution_count": 40,
      "outputs": [
        {
          "output_type": "stream",
          "text": [
            "7.0\n"
          ],
          "name": "stdout"
        }
      ]
    },
    {
      "metadata": {
        "id": "8izy8kPb_-e4",
        "colab_type": "code",
        "colab": {
          "base_uri": "https://localhost:8080/",
          "height": 52
        },
        "outputId": "bc23d785-6d76-4b3e-d276-fc6ab5f5c9de"
      },
      "cell_type": "code",
      "source": [
        "# string\n",
        "\n",
        "mystring = 'yo'\n",
        "print(mystring)\n",
        "mystring = \"bo\"\n",
        "print(mystring)"
      ],
      "execution_count": 41,
      "outputs": [
        {
          "output_type": "stream",
          "text": [
            "yo\n",
            "bo\n"
          ],
          "name": "stdout"
        }
      ]
    },
    {
      "metadata": {
        "id": "xGGRvd8vAZsv",
        "colab_type": "code",
        "colab": {
          "base_uri": "https://localhost:8080/",
          "height": 34
        },
        "outputId": "87b93145-6262-4c24-ca1c-327e461c8def"
      },
      "cell_type": "code",
      "source": [
        "# concatenation\n",
        "\n",
        "hello = 'hallo '\n",
        "world = 'welt '\n",
        "helloworld = hello + world\n",
        "print(helloworld)"
      ],
      "execution_count": 42,
      "outputs": [
        {
          "output_type": "stream",
          "text": [
            "hallowelt\n"
          ],
          "name": "stdout"
        }
      ]
    },
    {
      "metadata": {
        "id": "w-0-Kj2NA1Y2",
        "colab_type": "code",
        "colab": {
          "base_uri": "https://localhost:8080/",
          "height": 34
        },
        "outputId": "bd9a02b9-07e7-4f9d-a200-334ca34b9767"
      },
      "cell_type": "code",
      "source": [
        "# simultaneous assignment\n",
        "\n",
        "drei, veri, neun, funf = 3, 4, 9, 5\n",
        "print(drei, veri, neun, funf)"
      ],
      "execution_count": 43,
      "outputs": [
        {
          "output_type": "stream",
          "text": [
            "3 4 9 5\n"
          ],
          "name": "stdout"
        }
      ]
    },
    {
      "metadata": {
        "id": "ngvjleqpBHVx",
        "colab_type": "code",
        "colab": {
          "base_uri": "https://localhost:8080/",
          "height": 34
        },
        "outputId": "183fece0-c78d-40e0-f169-b4b86b0e6721"
      },
      "cell_type": "code",
      "source": [
        "eins = 1\n",
        "zwei = 2\n",
        "hello = ' hallo'\n",
        "\n",
        "print(str(eins) + str(zwei) + hello)"
      ],
      "execution_count": 45,
      "outputs": [
        {
          "output_type": "stream",
          "text": [
            "12 hallo\n"
          ],
          "name": "stdout"
        }
      ]
    },
    {
      "metadata": {
        "id": "VhrArP6eBw3r",
        "colab_type": "code",
        "colab": {
          "base_uri": "https://localhost:8080/",
          "height": 158
        },
        "outputId": "1b0f2ebc-a2f6-4599-bd91-a3208147790f"
      },
      "cell_type": "code",
      "source": [
        "mylist = []\n",
        "mylist.append(7)\n",
        "mylist.append(22)\n",
        "mylist.append(9)\n",
        "print(mylist)\n",
        "\n",
        "mylist[0] = 7\n",
        "print(mylist[0])\n",
        "print(mylist[1])\n",
        "print(mylist[2])\n",
        "\n",
        "print('---------')\n",
        "\n",
        "for x in mylist:\n",
        "  print(x)\n",
        "  "
      ],
      "execution_count": 51,
      "outputs": [
        {
          "output_type": "stream",
          "text": [
            "[7, 22, 9]\n",
            "7\n",
            "22\n",
            "9\n",
            "---------\n",
            "7\n",
            "22\n",
            "9\n"
          ],
          "name": "stdout"
        }
      ]
    },
    {
      "metadata": {
        "id": "xNFvQ4RMEHPn",
        "colab_type": "code",
        "colab": {
          "base_uri": "https://localhost:8080/",
          "height": 123
        },
        "outputId": "6ea581fd-0fad-47b2-9675-1a8aebf49359"
      },
      "cell_type": "code",
      "source": [
        "mylist2 = [6,6, \"blimes\"]\n",
        "addedList = mylist + mylist2\n",
        "print(mylist)\n",
        "print(mylist2)\n",
        "\n",
        "print(addedList)\n",
        "print(addedList[5])\n",
        "\n",
        "print(type(addedList[5]))\n",
        "\n",
        "addedList.append(6.2)\n",
        "print(addedList)"
      ],
      "execution_count": 61,
      "outputs": [
        {
          "output_type": "stream",
          "text": [
            "[7, 22, 9]\n",
            "[6, 6, 'blimes']\n",
            "[7, 22, 9, 6, 6, 'blimes']\n",
            "blimes\n",
            "<class 'str'>\n",
            "[7, 22, 9, 6, 6, 'blimes', 6.2]\n"
          ],
          "name": "stdout"
        }
      ]
    },
    {
      "metadata": {
        "id": "g7nIfokQElrY",
        "colab_type": "code",
        "colab": {
          "base_uri": "https://localhost:8080/",
          "height": 70
        },
        "outputId": "40a618ab-8829-4890-aad5-eaa4d35ed586"
      },
      "cell_type": "code",
      "source": [
        "print([1,2,3] * 3)\n",
        "f = range(1,10)\n",
        "print(f)\n",
        "len(f) # length"
      ],
      "execution_count": 58,
      "outputs": [
        {
          "output_type": "stream",
          "text": [
            "[1, 2, 3, 1, 2, 3, 1, 2, 3]\n",
            "range(1, 10)\n"
          ],
          "name": "stdout"
        },
        {
          "output_type": "execute_result",
          "data": {
            "text/plain": [
              "9"
            ]
          },
          "metadata": {
            "tags": []
          },
          "execution_count": 58
        }
      ]
    },
    {
      "metadata": {
        "id": "XzPafq0DE-Aq",
        "colab_type": "code",
        "colab": {
          "base_uri": "https://localhost:8080/",
          "height": 87
        },
        "outputId": "63f2a45b-1949-49c5-b5cd-7f4dd798801b"
      },
      "cell_type": "code",
      "source": [
        "# basic arithmetic\n",
        "# % = n as smallest init\n",
        "\n",
        "number = 1 + 2 * 3 / 4.0\n",
        "print(number)\n",
        "\n",
        "\n",
        "remainder = 11 / 3\n",
        "print('remainder: %f' %remainder)\n",
        "\n",
        "remainder2 = 11 % 3\n",
        "print('remainder2: %f' %remainder2)\n",
        "\n",
        "\n",
        "# string multiplication\n",
        "\n",
        "lotsofyos = 'hello - ' * 10\n",
        "print(lotsofyos)"
      ],
      "execution_count": 66,
      "outputs": [
        {
          "output_type": "stream",
          "text": [
            "2.5\n",
            "remainder: 3.666667\n",
            "remainder2: 2.000000\n",
            "hello - hello - hello - hello - hello - hello - hello - hello - hello - hello - \n"
          ],
          "name": "stdout"
        }
      ]
    },
    {
      "metadata": {
        "id": "040JmB8VFIPs",
        "colab_type": "code",
        "colab": {}
      },
      "cell_type": "code",
      "source": [
        ""
      ],
      "execution_count": 0,
      "outputs": []
    }
  ]
}